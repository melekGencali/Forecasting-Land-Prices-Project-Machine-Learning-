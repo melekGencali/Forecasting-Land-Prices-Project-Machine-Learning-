{
 "cells": [
  {
   "cell_type": "code",
   "execution_count": 1,
   "metadata": {
    "pycharm": {
     "name": "#%%\n"
    }
   },
   "outputs": [],
   "source": [
    "# Not: Bu dosya çalıştırılmamalıdır. Çünkü farklı sitelerden veri çekilmiş olup bu sayfada\n",
    "# düzenlenip en son birleştirimiştir.Verisetinin Bu kodlar ile son hali DATA.csv olarak\n",
    "# kaydedilmiş olunup Forecasting.ipynb dosyasında kullanılmış ve tahminleme işlemi yapılmıştır.\n",
    "# Direk Forecasting dosyası üzerinden ilerleyiniz.\n",
    "\n",
    "import pandas as pd"
   ]
  },
  {
   "cell_type": "code",
   "execution_count": 37,
   "metadata": {
    "collapsed": true
   },
   "outputs": [
    {
     "name": "stdout",
     "output_type": "stream",
     "text": [
      "<class 'pandas.core.frame.DataFrame'>\n",
      "RangeIndex: 4650 entries, 0 to 4649\n",
      "Data columns (total 16 columns):\n",
      " #   Column                  Non-Null Count  Dtype  \n",
      "---  ------                  --------------  -----  \n",
      " 0   FIYAT                   4650 non-null   int64  \n",
      " 1   IL                      4650 non-null   object \n",
      " 2   ILCE                    4650 non-null   object \n",
      " 3   MAHALLE                 4650 non-null   object \n",
      " 4   ILAN_NO                 4650 non-null   object \n",
      " 5   ARSA_TIPI               4650 non-null   object \n",
      " 6   METREKARE               4650 non-null   int64  \n",
      " 7   KREDIYE_UYGUNLUK        2626 non-null   object \n",
      " 8   TAPU_DURUMU             2905 non-null   object \n",
      " 9   TAKAS                   2736 non-null   object \n",
      " 10  KAT_KARSILIGI           4649 non-null   object \n",
      " 11  ILGILI_BELEDIYE         2436 non-null   object \n",
      " 12  METREKARE_BIRIM_FIYATI  1157 non-null   float64\n",
      " 13  ADA                     1492 non-null   float64\n",
      " 14  PARSEL                  1660 non-null   float64\n",
      " 15  KIRA_GETIRISI           243 non-null    float64\n",
      "dtypes: float64(4), int64(2), object(10)\n",
      "memory usage: 581.4+ KB\n"
     ]
    }
   ],
   "source": [
    "\n",
    "df_train = pd.read_csv('scrapyProje/yeni_ekle_1.csv', encoding = \"UTF-8\", sep=\",\")\n",
    "df_train.info()\n"
   ]
  },
  {
   "cell_type": "code",
   "execution_count": 3,
   "metadata": {
    "pycharm": {
     "name": "#%%\n"
    }
   },
   "outputs": [
    {
     "data": {
      "text/plain": "        FIYAT         IL        ILCE            MAHALLE     ILAN_NO  \\\n0      180000  Canakkale     LapsekI             GUrecI   70072-582   \n1      550000      Konya       Meram          CayırbaGı   81572-243   \n2      980000      MuGla     MenteSe              Kıran    116661-7   \n3     2750000      Hatay       Arsuz  KaraaGaC Sarkonak  109071-281   \n4     8000000    Sakarya    SerdIvan      YukarıderekOy  68903-1004   \n...       ...        ...         ...                ...         ...   \n4647   475000    Malatya  BattalgazI            HIdayet  110592-126   \n4648    90000  GazIantep  SehItkamIl             UCgOze     7988-58   \n4649   315000     Ankara     GOlbaSı           YaylabaG   1249-1459   \n4650   325000    Sakarya      Hendek           Sarıdede   117558-81   \n4651   575000      MuGla     Dalaman           KaraCalı  34925-4849   \n\n           ARSA_TIPI  METREKARE KREDIYE_UYGUNLUK      TAPU_DURUMU  TAKAS  \\\n0     Imarlı - Konut        318              NaN              NaN    NaN   \n1              BahCe       1260            Uygun  MUstakIl Parsel  Hayır   \n2              Tarla        959              NaN              NaN    NaN   \n3     Imarlı - Konut       4000              NaN              NaN    NaN   \n4     Imarlı - Konut       4070              NaN              NaN    NaN   \n...              ...        ...              ...              ...    ...   \n4647  Imarlı - Konut        458              NaN              NaN    NaN   \n4648           Tarla       1715            Uygun  MUstakIl Parsel  Hayır   \n4649           Tarla       1000              NaN              NaN    NaN   \n4650  Imarlı - Konut        778              NaN              NaN    NaN   \n4651  Imarlı - Konut        408            Uygun  MUstakIl Parsel  Hayır   \n\n     KAT_KARSILIGI ILGILI_BELEDIYE METREKARE_BIRIM_FIYATI   ADA PARSEL  \\\n0            Hayır             NaN                    NaN   228      3   \n1            Hayır           MERAM                    480   326     33   \n2            Hayır             NaN                    NaN   NaN    NaN   \n3            Hayır             NaN                    NaN   NaN    NaN   \n4            Hayır             NaN                    NaN   NaN    NaN   \n...            ...             ...                    ...   ...    ...   \n4647         Hayır             NaN                    NaN  5897      4   \n4648         Hayır      SEHITKAMIL                     47   108    137   \n4649         Hayır             NaN                    NaN   NaN    584   \n4650         Hayır          HENDEK                    NaN   NaN    NaN   \n4651         Hayır         DALAMAN                    NaN   NaN    NaN   \n\n     KIRA_GETIRISI  \n0              NaN  \n1              NaN  \n2              NaN  \n3              NaN  \n4              NaN  \n...            ...  \n4647           NaN  \n4648           NaN  \n4649           NaN  \n4650           NaN  \n4651           NaN  \n\n[4652 rows x 16 columns]",
      "text/html": "<div>\n<style scoped>\n    .dataframe tbody tr th:only-of-type {\n        vertical-align: middle;\n    }\n\n    .dataframe tbody tr th {\n        vertical-align: top;\n    }\n\n    .dataframe thead th {\n        text-align: right;\n    }\n</style>\n<table border=\"1\" class=\"dataframe\">\n  <thead>\n    <tr style=\"text-align: right;\">\n      <th></th>\n      <th>FIYAT</th>\n      <th>IL</th>\n      <th>ILCE</th>\n      <th>MAHALLE</th>\n      <th>ILAN_NO</th>\n      <th>ARSA_TIPI</th>\n      <th>METREKARE</th>\n      <th>KREDIYE_UYGUNLUK</th>\n      <th>TAPU_DURUMU</th>\n      <th>TAKAS</th>\n      <th>KAT_KARSILIGI</th>\n      <th>ILGILI_BELEDIYE</th>\n      <th>METREKARE_BIRIM_FIYATI</th>\n      <th>ADA</th>\n      <th>PARSEL</th>\n      <th>KIRA_GETIRISI</th>\n    </tr>\n  </thead>\n  <tbody>\n    <tr>\n      <th>0</th>\n      <td>180000</td>\n      <td>Canakkale</td>\n      <td>LapsekI</td>\n      <td>GUrecI</td>\n      <td>70072-582</td>\n      <td>Imarlı - Konut</td>\n      <td>318</td>\n      <td>NaN</td>\n      <td>NaN</td>\n      <td>NaN</td>\n      <td>Hayır</td>\n      <td>NaN</td>\n      <td>NaN</td>\n      <td>228</td>\n      <td>3</td>\n      <td>NaN</td>\n    </tr>\n    <tr>\n      <th>1</th>\n      <td>550000</td>\n      <td>Konya</td>\n      <td>Meram</td>\n      <td>CayırbaGı</td>\n      <td>81572-243</td>\n      <td>BahCe</td>\n      <td>1260</td>\n      <td>Uygun</td>\n      <td>MUstakIl Parsel</td>\n      <td>Hayır</td>\n      <td>Hayır</td>\n      <td>MERAM</td>\n      <td>480</td>\n      <td>326</td>\n      <td>33</td>\n      <td>NaN</td>\n    </tr>\n    <tr>\n      <th>2</th>\n      <td>980000</td>\n      <td>MuGla</td>\n      <td>MenteSe</td>\n      <td>Kıran</td>\n      <td>116661-7</td>\n      <td>Tarla</td>\n      <td>959</td>\n      <td>NaN</td>\n      <td>NaN</td>\n      <td>NaN</td>\n      <td>Hayır</td>\n      <td>NaN</td>\n      <td>NaN</td>\n      <td>NaN</td>\n      <td>NaN</td>\n      <td>NaN</td>\n    </tr>\n    <tr>\n      <th>3</th>\n      <td>2750000</td>\n      <td>Hatay</td>\n      <td>Arsuz</td>\n      <td>KaraaGaC Sarkonak</td>\n      <td>109071-281</td>\n      <td>Imarlı - Konut</td>\n      <td>4000</td>\n      <td>NaN</td>\n      <td>NaN</td>\n      <td>NaN</td>\n      <td>Hayır</td>\n      <td>NaN</td>\n      <td>NaN</td>\n      <td>NaN</td>\n      <td>NaN</td>\n      <td>NaN</td>\n    </tr>\n    <tr>\n      <th>4</th>\n      <td>8000000</td>\n      <td>Sakarya</td>\n      <td>SerdIvan</td>\n      <td>YukarıderekOy</td>\n      <td>68903-1004</td>\n      <td>Imarlı - Konut</td>\n      <td>4070</td>\n      <td>NaN</td>\n      <td>NaN</td>\n      <td>NaN</td>\n      <td>Hayır</td>\n      <td>NaN</td>\n      <td>NaN</td>\n      <td>NaN</td>\n      <td>NaN</td>\n      <td>NaN</td>\n    </tr>\n    <tr>\n      <th>...</th>\n      <td>...</td>\n      <td>...</td>\n      <td>...</td>\n      <td>...</td>\n      <td>...</td>\n      <td>...</td>\n      <td>...</td>\n      <td>...</td>\n      <td>...</td>\n      <td>...</td>\n      <td>...</td>\n      <td>...</td>\n      <td>...</td>\n      <td>...</td>\n      <td>...</td>\n      <td>...</td>\n    </tr>\n    <tr>\n      <th>4647</th>\n      <td>475000</td>\n      <td>Malatya</td>\n      <td>BattalgazI</td>\n      <td>HIdayet</td>\n      <td>110592-126</td>\n      <td>Imarlı - Konut</td>\n      <td>458</td>\n      <td>NaN</td>\n      <td>NaN</td>\n      <td>NaN</td>\n      <td>Hayır</td>\n      <td>NaN</td>\n      <td>NaN</td>\n      <td>5897</td>\n      <td>4</td>\n      <td>NaN</td>\n    </tr>\n    <tr>\n      <th>4648</th>\n      <td>90000</td>\n      <td>GazIantep</td>\n      <td>SehItkamIl</td>\n      <td>UCgOze</td>\n      <td>7988-58</td>\n      <td>Tarla</td>\n      <td>1715</td>\n      <td>Uygun</td>\n      <td>MUstakIl Parsel</td>\n      <td>Hayır</td>\n      <td>Hayır</td>\n      <td>SEHITKAMIL</td>\n      <td>47</td>\n      <td>108</td>\n      <td>137</td>\n      <td>NaN</td>\n    </tr>\n    <tr>\n      <th>4649</th>\n      <td>315000</td>\n      <td>Ankara</td>\n      <td>GOlbaSı</td>\n      <td>YaylabaG</td>\n      <td>1249-1459</td>\n      <td>Tarla</td>\n      <td>1000</td>\n      <td>NaN</td>\n      <td>NaN</td>\n      <td>NaN</td>\n      <td>Hayır</td>\n      <td>NaN</td>\n      <td>NaN</td>\n      <td>NaN</td>\n      <td>584</td>\n      <td>NaN</td>\n    </tr>\n    <tr>\n      <th>4650</th>\n      <td>325000</td>\n      <td>Sakarya</td>\n      <td>Hendek</td>\n      <td>Sarıdede</td>\n      <td>117558-81</td>\n      <td>Imarlı - Konut</td>\n      <td>778</td>\n      <td>NaN</td>\n      <td>NaN</td>\n      <td>NaN</td>\n      <td>Hayır</td>\n      <td>HENDEK</td>\n      <td>NaN</td>\n      <td>NaN</td>\n      <td>NaN</td>\n      <td>NaN</td>\n    </tr>\n    <tr>\n      <th>4651</th>\n      <td>575000</td>\n      <td>MuGla</td>\n      <td>Dalaman</td>\n      <td>KaraCalı</td>\n      <td>34925-4849</td>\n      <td>Imarlı - Konut</td>\n      <td>408</td>\n      <td>Uygun</td>\n      <td>MUstakIl Parsel</td>\n      <td>Hayır</td>\n      <td>Hayır</td>\n      <td>DALAMAN</td>\n      <td>NaN</td>\n      <td>NaN</td>\n      <td>NaN</td>\n      <td>NaN</td>\n    </tr>\n  </tbody>\n</table>\n<p>4652 rows × 16 columns</p>\n</div>"
     },
     "execution_count": 3,
     "metadata": {},
     "output_type": "execute_result"
    }
   ],
   "source": [
    "df_train"
   ]
  },
  {
   "cell_type": "code",
   "execution_count": 19,
   "metadata": {
    "pycharm": {
     "name": "#%%\n"
    }
   },
   "outputs": [
    {
     "name": "stdout",
     "output_type": "stream",
     "text": [
      "<class 'pandas.core.frame.DataFrame'>\n",
      "RangeIndex: 4615 entries, 0 to 4614\n",
      "Data columns (total 16 columns):\n",
      " #   Column                  Non-Null Count  Dtype \n",
      "---  ------                  --------------  ----- \n",
      " 0   fIyat                   4615 non-null   object\n",
      " 1   Il                      4615 non-null   object\n",
      " 2   Ilce                    4615 non-null   object\n",
      " 3   mahalle                 4615 non-null   object\n",
      " 4   Ilan_no                 4615 non-null   object\n",
      " 5   Arsa_TıpI               4615 non-null   object\n",
      " 6   Metrekare               4615 non-null   int64 \n",
      " 7   KredIye_Uygunluk        2623 non-null   object\n",
      " 8   Tapu_Durumu             2420 non-null   object\n",
      " 9   Takas                   2681 non-null   object\n",
      " 10  Kat_KarSılıgı           4614 non-null   object\n",
      " 11  IlgIlI_BeledIye         1922 non-null   object\n",
      " 12  Metrekare_BırIm_Fıyatı  1005 non-null   object\n",
      " 13  Ada                     1324 non-null   object\n",
      " 14  Parsel                  1489 non-null   object\n",
      " 15  Kıra_GetIrIsI           133 non-null    object\n",
      "dtypes: int64(1), object(15)\n",
      "memory usage: 577.0+ KB\n"
     ]
    }
   ],
   "source": [
    "df_train.info()"
   ]
  },
  {
   "cell_type": "code",
   "execution_count": 38,
   "metadata": {
    "pycharm": {
     "name": "#%%\n"
    }
   },
   "outputs": [],
   "source": [
    "df_train[\"IL\"] = df_train[\"IL\"].str.upper()\n",
    "df_train[\"ILCE\"] = df_train[\"ILCE\"].str.upper()\n",
    "df_train[\"MAHALLE\"] = df_train[\"MAHALLE\"].str.upper()\n",
    "df_train[\"TAPU_DURUMU\"] = df_train[\"TAPU_DURUMU\"].str.upper()\n",
    "df_train[\"ARSA_TIPI\"] = df_train[\"ARSA_TIPI\"].str.upper()\n",
    "df_train[\"ILGILI_BELEDIYE\"] = df_train[\"ILGILI_BELEDIYE\"].str.upper()\n",
    "df_train[\"TAKAS\"] = df_train[\"TAKAS\"].str.upper()\n",
    "df_train[\"KAT_KARSILIGI\"] = df_train[\"KAT_KARSILIGI\"].str.upper()\n",
    "df_train[\"KREDIYE_UYGUNLUK\"] = df_train[\"KREDIYE_UYGUNLUK\"].str.upper()\n"
   ]
  },
  {
   "cell_type": "code",
   "execution_count": 5,
   "metadata": {
    "pycharm": {
     "name": "#%%\n"
    }
   },
   "outputs": [
    {
     "data": {
      "text/plain": "       FIYAT            IL      ILCE            MAHALLE     ILAN_NO  \\\n0     180000     CANAKKALE   LAPSEKI             GURECI   70072-582   \n1     550000         KONYA     MERAM          CAYIRBAGI   81572-243   \n2     980000         MUGLA   MENTESE              KIRAN    116661-7   \n3    2750000         HATAY     ARSUZ  KARAAGAC SARKONAK  109071-281   \n4    8000000       SAKARYA  SERDIVAN      YUKARIDEREKOY  68903-1004   \n..       ...           ...       ...                ...         ...   \n995  9827000      ISTANBUL    BEYKOZ   MAHMUTSEVKETPASA    116946-4   \n996  1350000  MERSIN(ICEL)   SILIFKE            ATAYURT   37796-884   \n997  1250000       SAKARYA  SERDIVAN           ESENTEPE   81061-183   \n998   410000         MUGLA   MENTESE            GULAGZI    8672-528   \n999   200000       SAKARYA     GEYVE               CINE   86862-169   \n\n           ARSA_TIPI  METREKARE KREDIYE_UYGUNLUK      TAPU_DURUMU  TAKAS  \\\n0     IMARLI - KONUT        318              NaN              NaN    NaN   \n1              BAHCE       1260            UYGUN  MUSTAKIL PARSEL  HAYIR   \n2              TARLA        959              NaN              NaN    NaN   \n3     IMARLI - KONUT       4000              NaN              NaN    NaN   \n4     IMARLI - KONUT       4070              NaN              NaN    NaN   \n..               ...        ...              ...              ...    ...   \n995            BAHCE      15850              NaN  MUSTAKIL PARSEL  HAYIR   \n996    OZEL KULLANIM       5885            UYGUN  MUSTAKIL PARSEL    NaN   \n997  IMARLI - TICARI        741              NaN              NaN    NaN   \n998   IMARLI - KONUT        400              NaN              NaN    NaN   \n999            BAHCE       3000              NaN              NaN    NaN   \n\n    KAT_KARSILIGI ILGILI_BELEDIYE METREKARE_BIRIM_FIYATI   ADA PARSEL  \\\n0           HAYIR             NaN                    NaN   228      3   \n1           HAYIR           MERAM                    480   326     33   \n2           HAYIR             NaN                    NaN   NaN    NaN   \n3           HAYIR             NaN                    NaN   NaN    NaN   \n4           HAYIR             NaN                    NaN   NaN    NaN   \n..            ...             ...                    ...   ...    ...   \n995         HAYIR          BEYKOZ                    500  1111  11111   \n996         HAYIR         SILIFKE                    NaN   NaN    NaN   \n997         HAYIR             NaN                    NaN   NaN    NaN   \n998         HAYIR             NaN                    NaN   NaN    NaN   \n999         HAYIR           GEYVE                    NaN   NaN    NaN   \n\n    KIRA_GETIRISI  \n0             NaN  \n1             NaN  \n2             NaN  \n3             NaN  \n4             NaN  \n..            ...  \n995        11.111  \n996           NaN  \n997           NaN  \n998           NaN  \n999           NaN  \n\n[1000 rows x 16 columns]",
      "text/html": "<div>\n<style scoped>\n    .dataframe tbody tr th:only-of-type {\n        vertical-align: middle;\n    }\n\n    .dataframe tbody tr th {\n        vertical-align: top;\n    }\n\n    .dataframe thead th {\n        text-align: right;\n    }\n</style>\n<table border=\"1\" class=\"dataframe\">\n  <thead>\n    <tr style=\"text-align: right;\">\n      <th></th>\n      <th>FIYAT</th>\n      <th>IL</th>\n      <th>ILCE</th>\n      <th>MAHALLE</th>\n      <th>ILAN_NO</th>\n      <th>ARSA_TIPI</th>\n      <th>METREKARE</th>\n      <th>KREDIYE_UYGUNLUK</th>\n      <th>TAPU_DURUMU</th>\n      <th>TAKAS</th>\n      <th>KAT_KARSILIGI</th>\n      <th>ILGILI_BELEDIYE</th>\n      <th>METREKARE_BIRIM_FIYATI</th>\n      <th>ADA</th>\n      <th>PARSEL</th>\n      <th>KIRA_GETIRISI</th>\n    </tr>\n  </thead>\n  <tbody>\n    <tr>\n      <th>0</th>\n      <td>180000</td>\n      <td>CANAKKALE</td>\n      <td>LAPSEKI</td>\n      <td>GURECI</td>\n      <td>70072-582</td>\n      <td>IMARLI - KONUT</td>\n      <td>318</td>\n      <td>NaN</td>\n      <td>NaN</td>\n      <td>NaN</td>\n      <td>HAYIR</td>\n      <td>NaN</td>\n      <td>NaN</td>\n      <td>228</td>\n      <td>3</td>\n      <td>NaN</td>\n    </tr>\n    <tr>\n      <th>1</th>\n      <td>550000</td>\n      <td>KONYA</td>\n      <td>MERAM</td>\n      <td>CAYIRBAGI</td>\n      <td>81572-243</td>\n      <td>BAHCE</td>\n      <td>1260</td>\n      <td>UYGUN</td>\n      <td>MUSTAKIL PARSEL</td>\n      <td>HAYIR</td>\n      <td>HAYIR</td>\n      <td>MERAM</td>\n      <td>480</td>\n      <td>326</td>\n      <td>33</td>\n      <td>NaN</td>\n    </tr>\n    <tr>\n      <th>2</th>\n      <td>980000</td>\n      <td>MUGLA</td>\n      <td>MENTESE</td>\n      <td>KIRAN</td>\n      <td>116661-7</td>\n      <td>TARLA</td>\n      <td>959</td>\n      <td>NaN</td>\n      <td>NaN</td>\n      <td>NaN</td>\n      <td>HAYIR</td>\n      <td>NaN</td>\n      <td>NaN</td>\n      <td>NaN</td>\n      <td>NaN</td>\n      <td>NaN</td>\n    </tr>\n    <tr>\n      <th>3</th>\n      <td>2750000</td>\n      <td>HATAY</td>\n      <td>ARSUZ</td>\n      <td>KARAAGAC SARKONAK</td>\n      <td>109071-281</td>\n      <td>IMARLI - KONUT</td>\n      <td>4000</td>\n      <td>NaN</td>\n      <td>NaN</td>\n      <td>NaN</td>\n      <td>HAYIR</td>\n      <td>NaN</td>\n      <td>NaN</td>\n      <td>NaN</td>\n      <td>NaN</td>\n      <td>NaN</td>\n    </tr>\n    <tr>\n      <th>4</th>\n      <td>8000000</td>\n      <td>SAKARYA</td>\n      <td>SERDIVAN</td>\n      <td>YUKARIDEREKOY</td>\n      <td>68903-1004</td>\n      <td>IMARLI - KONUT</td>\n      <td>4070</td>\n      <td>NaN</td>\n      <td>NaN</td>\n      <td>NaN</td>\n      <td>HAYIR</td>\n      <td>NaN</td>\n      <td>NaN</td>\n      <td>NaN</td>\n      <td>NaN</td>\n      <td>NaN</td>\n    </tr>\n    <tr>\n      <th>...</th>\n      <td>...</td>\n      <td>...</td>\n      <td>...</td>\n      <td>...</td>\n      <td>...</td>\n      <td>...</td>\n      <td>...</td>\n      <td>...</td>\n      <td>...</td>\n      <td>...</td>\n      <td>...</td>\n      <td>...</td>\n      <td>...</td>\n      <td>...</td>\n      <td>...</td>\n      <td>...</td>\n    </tr>\n    <tr>\n      <th>995</th>\n      <td>9827000</td>\n      <td>ISTANBUL</td>\n      <td>BEYKOZ</td>\n      <td>MAHMUTSEVKETPASA</td>\n      <td>116946-4</td>\n      <td>BAHCE</td>\n      <td>15850</td>\n      <td>NaN</td>\n      <td>MUSTAKIL PARSEL</td>\n      <td>HAYIR</td>\n      <td>HAYIR</td>\n      <td>BEYKOZ</td>\n      <td>500</td>\n      <td>1111</td>\n      <td>11111</td>\n      <td>11.111</td>\n    </tr>\n    <tr>\n      <th>996</th>\n      <td>1350000</td>\n      <td>MERSIN(ICEL)</td>\n      <td>SILIFKE</td>\n      <td>ATAYURT</td>\n      <td>37796-884</td>\n      <td>OZEL KULLANIM</td>\n      <td>5885</td>\n      <td>UYGUN</td>\n      <td>MUSTAKIL PARSEL</td>\n      <td>NaN</td>\n      <td>HAYIR</td>\n      <td>SILIFKE</td>\n      <td>NaN</td>\n      <td>NaN</td>\n      <td>NaN</td>\n      <td>NaN</td>\n    </tr>\n    <tr>\n      <th>997</th>\n      <td>1250000</td>\n      <td>SAKARYA</td>\n      <td>SERDIVAN</td>\n      <td>ESENTEPE</td>\n      <td>81061-183</td>\n      <td>IMARLI - TICARI</td>\n      <td>741</td>\n      <td>NaN</td>\n      <td>NaN</td>\n      <td>NaN</td>\n      <td>HAYIR</td>\n      <td>NaN</td>\n      <td>NaN</td>\n      <td>NaN</td>\n      <td>NaN</td>\n      <td>NaN</td>\n    </tr>\n    <tr>\n      <th>998</th>\n      <td>410000</td>\n      <td>MUGLA</td>\n      <td>MENTESE</td>\n      <td>GULAGZI</td>\n      <td>8672-528</td>\n      <td>IMARLI - KONUT</td>\n      <td>400</td>\n      <td>NaN</td>\n      <td>NaN</td>\n      <td>NaN</td>\n      <td>HAYIR</td>\n      <td>NaN</td>\n      <td>NaN</td>\n      <td>NaN</td>\n      <td>NaN</td>\n      <td>NaN</td>\n    </tr>\n    <tr>\n      <th>999</th>\n      <td>200000</td>\n      <td>SAKARYA</td>\n      <td>GEYVE</td>\n      <td>CINE</td>\n      <td>86862-169</td>\n      <td>BAHCE</td>\n      <td>3000</td>\n      <td>NaN</td>\n      <td>NaN</td>\n      <td>NaN</td>\n      <td>HAYIR</td>\n      <td>GEYVE</td>\n      <td>NaN</td>\n      <td>NaN</td>\n      <td>NaN</td>\n      <td>NaN</td>\n    </tr>\n  </tbody>\n</table>\n<p>1000 rows × 16 columns</p>\n</div>"
     },
     "execution_count": 5,
     "metadata": {},
     "output_type": "execute_result"
    }
   ],
   "source": [
    "df_train.head(10)\n"
   ]
  },
  {
   "cell_type": "code",
   "execution_count": 7,
   "metadata": {
    "pycharm": {
     "name": "#%%\n"
    }
   },
   "outputs": [
    {
     "data": {
      "text/plain": "' TL kolonlardan silindi ve o kolonlar int, float olarak alındı. Son hali kayıtlıdır.'"
     },
     "execution_count": 7,
     "metadata": {},
     "output_type": "execute_result"
    }
   ],
   "source": [
    "#df_train.to_csv(\"DataCSV.csv\")\n",
    "\n",
    "\"\"\" TL kolonlardan silindi ve o kolonlar int, float olarak alındı. Son hali kayıtlıdır.\"\"\""
   ]
  },
  {
   "cell_type": "code",
   "execution_count": 9,
   "metadata": {
    "pycharm": {
     "name": "#%%\n"
    }
   },
   "outputs": [
    {
     "name": "stdout",
     "output_type": "stream",
     "text": [
      "<class 'pandas.core.frame.DataFrame'>\n",
      "RangeIndex: 2393 entries, 0 to 2392\n",
      "Data columns (total 16 columns):\n",
      " #   Column                 Non-Null Count  Dtype  \n",
      "---  ------                 --------------  -----  \n",
      " 0   FIYAT                  2393 non-null   int64  \n",
      " 1   IL                     2393 non-null   object \n",
      " 2   ILCE                   2393 non-null   object \n",
      " 3   MAHALLE                2393 non-null   object \n",
      " 4   ILAN_NO                2393 non-null   object \n",
      " 5   ARSA_TIPI              2393 non-null   object \n",
      " 6   METREKARE              2393 non-null   int64  \n",
      " 7   KREDIYE_UYGUNLUK       1570 non-null   object \n",
      " 8   TAPU_DURUMU            1792 non-null   object \n",
      " 9   TAKAS                  1668 non-null   object \n",
      " 10  KAT_KARSILIGI          2393 non-null   object \n",
      " 11  ILGILI_BELEDIYE        1558 non-null   object \n",
      " 12  METREKARE_BIRIM_FIYAT  683 non-null    object \n",
      " 13  ADA                    819 non-null    object \n",
      " 14  PARSEL                 888 non-null    object \n",
      " 15  KIRA_GETIRISI          124 non-null    float64\n",
      "dtypes: float64(1), int64(2), object(13)\n",
      "memory usage: 299.2+ KB\n"
     ]
    }
   ],
   "source": [
    "#Train_data\n",
    "#df_train = pd.read_csv('/home/melek/PycharmProjects/webCrawl/DataCSV.csv', encoding = \"UTF-8\", sep=\",\")\n",
    "#df_train.info()"
   ]
  },
  {
   "cell_type": "code",
   "execution_count": 39,
   "metadata": {
    "pycharm": {
     "name": "#%%\n"
    }
   },
   "outputs": [
    {
     "data": {
      "text/plain": "0         I_K\n1       BAHCE\n2       TARLA\n3         I_K\n4         I_K\n        ...  \n4645      I_K\n4646    TARLA\n4647    TARLA\n4648      I_K\n4649      I_K\nName: ARSA_TIPI, Length: 4650, dtype: object"
     },
     "execution_count": 39,
     "metadata": {},
     "output_type": "execute_result"
    }
   ],
   "source": [
    "df_train['ARSA_TIPI']=df_train['ARSA_TIPI'].replace(['IMARLI - KONUT'], 'I_K')\n",
    "df_train['ARSA_TIPI']=df_train['ARSA_TIPI'].replace(['IMARLI - SANAYI'], 'I_S')\n",
    "df_train['ARSA_TIPI']=df_train['ARSA_TIPI'].replace(['MUHTELIF ARSA'], 'M_A')\n",
    "df_train['ARSA_TIPI']=df_train['ARSA_TIPI'].replace(['IMARLI - TICARI'], 'I_T')\n",
    "df_train['ARSA_TIPI']=df_train['ARSA_TIPI'].replace(['KONUT+TICARET'], 'K_T')\n",
    "df_train['ARSA_TIPI']=df_train['ARSA_TIPI'].replace(['OKUL (EGITIM TESISI)'], 'OKUL')\n",
    "df_train['ARSA_TIPI']=df_train['ARSA_TIPI'].replace(['OZEL KULLANIM'], 'OZEL_K')\n",
    "df_train['ARSA_TIPI']=df_train['ARSA_TIPI'].replace(['TURISTIK ARSA'], 'T_A')\n",
    "df_train['ARSA_TIPI']=df_train['ARSA_TIPI'].replace(['DEPO, ANTREPO IZINLI'], 'D_A_I')\n",
    "df_train['ARSA_TIPI']=df_train['ARSA_TIPI'].replace(['SIT ALANI'], 'S_A')\n",
    "df_train['ARSA_TIPI']=df_train['ARSA_TIPI'].replace(['TOPLU KONUT ICIN TAHSIS'], 'T_K')\n",
    "df_train['ARSA_TIPI']=df_train['ARSA_TIPI'].replace(['HASTANE (SAGLIK TESISI)'], 'HASTANE')\n",
    "\n",
    "df_train['ARSA_TIPI']\n"
   ]
  },
  {
   "cell_type": "code",
   "execution_count": 10,
   "metadata": {
    "pycharm": {
     "name": "#%%\n"
    }
   },
   "outputs": [],
   "source": [
    "#df_train.to_csv(\"Data.csv\")"
   ]
  },
  {
   "cell_type": "code",
   "execution_count": 7,
   "metadata": {
    "pycharm": {
     "name": "#%%\n"
    }
   },
   "outputs": [],
   "source": [
    "#Train_data ile Train_data2 dosyası birleştirilerek Data.csv dosyası oluşturuldu"
   ]
  },
  {
   "cell_type": "code",
   "execution_count": 37,
   "metadata": {
    "pycharm": {
     "name": "#%%\n"
    }
   },
   "outputs": [
    {
     "name": "stdout",
     "output_type": "stream",
     "text": [
      "<class 'pandas.core.frame.DataFrame'>\n",
      "RangeIndex: 10342 entries, 0 to 10341\n",
      "Data columns (total 16 columns):\n",
      " #   Column                 Non-Null Count  Dtype  \n",
      "---  ------                 --------------  -----  \n",
      " 0   FIYAT                  10342 non-null  int64  \n",
      " 1   IL                     10342 non-null  object \n",
      " 2   ILCE                   10342 non-null  object \n",
      " 3   MAHALLE                10342 non-null  object \n",
      " 4   ILAN_NO                10342 non-null  object \n",
      " 5   ARSA_TIPI              10342 non-null  object \n",
      " 6   METREKARE              10342 non-null  int64  \n",
      " 7   KREDIYE_UYGUNLUK       10342 non-null  object \n",
      " 8   TAPU_DURUMU            7623 non-null   object \n",
      " 9   TAKAS                  10342 non-null  object \n",
      " 10  KAT_KARSILIGI          10340 non-null  object \n",
      " 11  ILGILI_BELEDIYE        6383 non-null   object \n",
      " 12  METREKARE_BIRIM_FIYAT  2735 non-null   float64\n",
      " 13  ADA                    3490 non-null   float64\n",
      " 14  PARSEL                 3901 non-null   float64\n",
      " 15  KIRA_GETIRISI          521 non-null    float64\n",
      "dtypes: float64(4), int64(2), object(10)\n",
      "memory usage: 1.3+ MB\n"
     ]
    }
   ],
   "source": [
    "#df_train = pd.read_csv('/home/melek/PycharmProjects/webCrawl/Data.csv', encoding = \"UTF-8\", sep=\",\")\n",
    "#df_train.info()"
   ]
  },
  {
   "cell_type": "code",
   "execution_count": 40,
   "metadata": {
    "pycharm": {
     "name": "#%% Değişken dönüşümlerinde kategorik değişkenleri 1 0 gibi değerlere dönüştürmek için LabelEncoder kulanılır.\n"
    }
   },
   "outputs": [
    {
     "data": {
      "text/plain": "\"df_train['TAPU_DURUMU']=df_train['TAPU_DURUMU'].replace(['MUSTAKIL PARSEL'], '5')\\ndf_train['TAPU_DURUMU']=df_train['TAPU_DURUMU'].replace(['HISSELI TAPU'], '4')\\ndf_train['TAPU_DURUMU']=df_train['TAPU_DURUMU'].replace(['BILINMIYOR'], '0')\\ndf_train['TAPU_DURUMU']=df_train['TAPU_DURUMU'].replace(['KAT MULKIYETI'], '3')\\ndf_train['TAPU_DURUMU']=df_train['TAPU_DURUMU'].replace(['ZILLIYET'], '2')\\ndf_train['TAPU_DURUMU']=df_train['TAPU_DURUMU'].replace(['TAHSIS'], '1')\\ndf_train['TAPU_DURUMU']=df_train['TAPU_DURUMU'].replace(['KAT IRTIFAKI'], '6')\\ndf_train['TAPU_DURUMU']=df_train['TAPU_DURUMU'].replace(['ARSA'], '7')\""
     },
     "execution_count": 40,
     "metadata": {},
     "output_type": "execute_result"
    }
   ],
   "source": [
    "#Ayrıca 1 0 dönüşümlerinde kategorik değişkenleri 1 ile sıfır arasında tahminleme yapacak ve yapısal bozukluk olacaktır.\n",
    "#Bunu çözmek için One - Hot dönüşümü ile Dummy Değişken Tuzağı yöntemi kullanılacaktır\n",
    "from sklearn.preprocessing import LabelEncoder\n",
    "lbe=LabelEncoder()\n",
    "df_train=pd.get_dummies(df_train,columns=[\"TAKAS\"],prefix=[\"TAKAS\"])\n",
    "df_train=pd.get_dummies(df_train,columns=[\"KAT_KARSILIGI\"],prefix=[\"KAT_KARSILIGI\"])\n",
    "df_train=pd.get_dummies(df_train,columns=[\"KREDIYE_UYGUNLUK\"],prefix=[\"KREDIYE_UYGUNLUK\"])\n"
   ]
  },
  {
   "cell_type": "code",
   "execution_count": null,
   "outputs": [],
   "source": [
    "df_train.head()\n",
    "df_train.info()"
   ],
   "metadata": {
    "collapsed": false,
    "pycharm": {
     "name": "#%%\n"
    }
   }
  },
  {
   "cell_type": "code",
   "execution_count": 41,
   "outputs": [],
   "source": [
    "df_train[\"TAKAS_EVET\"] = df_train[\"TAKAS_EVET\"].astype(int)\n",
    "df_train[\"TAKAS_HAYIR\"] = df_train[\"TAKAS_HAYIR\"].astype(int)\n",
    "\n",
    "df_train[\"KREDIYE_UYGUNLUK_UYGUN\"] = df_train[\"KREDIYE_UYGUNLUK_UYGUN\"].astype(int)\n",
    "df_train[\"KREDIYE_UYGUNLUK_UYGUN DEGIL\"] = df_train[\"KREDIYE_UYGUNLUK_UYGUN DEGIL\"].astype(int)\n",
    "df_train[\"KREDIYE_UYGUNLUK_BILINMIYOR\"] = df_train[\"KREDIYE_UYGUNLUK_BILINMIYOR\"].astype(int)\n",
    "\n",
    "df_train[\"KAT_KARSILIGI_EVET\"] = df_train[\"KAT_KARSILIGI_EVET\"].astype(int)\n",
    "df_train[\"KAT_KARSILIGI_HAYIR\"] = df_train[\"KAT_KARSILIGI_HAYIR\"].astype(int)\n"
   ],
   "metadata": {
    "collapsed": false,
    "pycharm": {
     "name": "#%%\n"
    }
   }
  },
  {
   "cell_type": "code",
   "execution_count": null,
   "outputs": [],
   "source": [
    "df_train.info()\n"
   ],
   "metadata": {
    "collapsed": false,
    "pycharm": {
     "name": "#%%\n"
    }
   }
  },
  {
   "cell_type": "code",
   "execution_count": 43,
   "metadata": {
    "pycharm": {
     "name": "#%%\n"
    }
   },
   "outputs": [],
   "source": [
    "df_train.to_csv(\"arsa_data_1.csv\")\n",
    "\n",
    "\n",
    "#Daha önceden oluşturulan DATA_CSV dosyası ile bu düzenlenen\n",
    "# arsa_data_1.csv dosyası birleştirilerek DATA.csv olarak Forecasting de kullanılacaktır."
   ]
  }
 ],
 "metadata": {
  "kernelspec": {
   "display_name": "Python 3",
   "language": "python",
   "name": "python3"
  },
  "language_info": {
   "codemirror_mode": {
    "name": "ipython",
    "version": 3
   },
   "file_extension": ".py",
   "mimetype": "text/x-python",
   "name": "python",
   "nbconvert_exporter": "python",
   "pygments_lexer": "ipython3",
   "version": "3.6.9"
  }
 },
 "nbformat": 4,
 "nbformat_minor": 1
}